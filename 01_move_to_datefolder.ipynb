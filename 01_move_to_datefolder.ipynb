{
 "cells": [
  {
   "cell_type": "markdown",
   "metadata": {},
   "source": [
    "### move raw files"
   ]
  },
  {
   "cell_type": "code",
   "execution_count": 1,
   "metadata": {},
   "outputs": [],
   "source": [
    "import os\n",
    "from pathlib import Path\n",
    "from datetime import datetime\n",
    "import _photo_utilities\n",
    "import _Python_utilities\n",
    "from pathlib import Path\n",
    "import exifread\n",
    "import pyheif\n",
    "import piexif\n",
    "import shutil"
   ]
  },
  {
   "cell_type": "code",
   "execution_count": 4,
   "metadata": {},
   "outputs": [],
   "source": [
    "BASEDIR = Path(\"/mnt/photo/\")\n",
    "NEW_files = BASEDIR / \"temp_files\""
   ]
  },
  {
   "cell_type": "code",
   "execution_count": 5,
   "metadata": {},
   "outputs": [
    {
     "name": "stdout",
     "output_type": "stream",
     "text": [
      "len(fullnames): 16\n",
      "fullnames: ['/mnt/photo/temp_files/100MEDIA/Y0080128.jpg', '/mnt/photo/temp_files/100MEDIA/Y0080129.jpg', '/mnt/photo/temp_files/100MEDIA/Y0080130.jpg', '/mnt/photo/temp_files/100MEDIA/Y0080131.jpg', '/mnt/photo/temp_files/100MEDIA/Y0080132.jpg', '/mnt/photo/temp_files/100MEDIA/YDXJ0125.THM', '/mnt/photo/temp_files/100MEDIA/YDXJ0125.mp4', '/mnt/photo/temp_files/100MEDIA/YDXJ0125_thm.mp4', '/mnt/photo/temp_files/100MEDIA/YDXJ0126.mp4', '/mnt/photo/temp_files/100MEDIA/YDXJ0126_thm.mp4', '/mnt/photo/temp_files/100MEDIA/YDXJ0127.THM', '/mnt/photo/temp_files/100MEDIA/YDXJ0127.mp4', '/mnt/photo/temp_files/100MEDIA/YDXJ0127_thm.mp4', '/mnt/photo/temp_files/100MEDIA/YDXJ0133.THM', '/mnt/photo/temp_files/100MEDIA/YDXJ0133.mp4', '/mnt/photo/temp_files/100MEDIA/YDXJ0133_thm.mp4']\n"
     ]
    }
   ],
   "source": [
    "fullnames = _Python_utilities.getFullnameListOfallFiles(NEW_files)\n",
    "print(\"len(fullnames):\", len(fullnames))\n",
    "print(\"fullnames:\", fullnames)"
   ]
  },
  {
   "cell_type": "code",
   "execution_count": 6,
   "metadata": {},
   "outputs": [],
   "source": [
    "ext_names_mov = [\".mp4\", \".mov\", \".3gp\", \".avi\"]\n",
    "ext_names_img = [\".dng\", \".jpg\", \".heic\", \".cr2\"]"
   ]
  },
  {
   "cell_type": "code",
   "execution_count": 60,
   "metadata": {},
   "outputs": [],
   "source": [
    "# from hachoir.parser import createParser\n",
    "# from hachoir.metadata import extractMetadata\n",
    "# fpath = Path(fullnames[0])\n",
    "# parser = createParser(str(fpath))\n",
    "# metadata = extractMetadata(parser)\n",
    "# if 'creation_date' in metadata :\n",
    "#     creation_date = metadata.get('creation_date').strftime(\"%Y%m%d-%H%M%S\")\n",
    "# else : \n",
    "#     import os.path, time\n",
    "#     from dateutil.parser import parse\n",
    "#     creation_date = parse(time.ctime(os.path.getctime(str(fpath)))).strftime(\"%Y%m%d-%H%M%S\")\n",
    "# creation_date"
   ]
  },
  {
   "cell_type": "code",
   "execution_count": 61,
   "metadata": {},
   "outputs": [],
   "source": [
    "# fpath = Path(fullnames[0])\n",
    "# heif_file = pyheif.read_heif(str(fpath))\n",
    "# heif_file\n",
    "# for metadata in heif_file.metadata or []:\n",
    "#     if metadata['type'] == 'Exif':\n",
    "#         exif_dict = piexif.load(metadata['data'])\n",
    "# image_datetime = exif_dict['0th'][306].decode('utf-8').replace(':','')\n",
    "# image_datetime = image_datetime.replace(' ','-')\n",
    "# camera_company = exif_dict['0th'][271].decode('utf-8')\n",
    "# camera_model = exif_dict['0th'][272].decode('utf-8').replace(' ','-')\n",
    "# image_Software = \"-\"\n",
    "# image_datetime, camera_company, camera_model, image_Software"
   ]
  },
  {
   "cell_type": "code",
   "execution_count": 62,
   "metadata": {},
   "outputs": [],
   "source": [
    "# fpath = Path(fullnames[0])\n",
    "# f = open(str(fpath), 'rb')\n",
    "# tags = exifread.process_file(f)\n",
    "# f.close()\n",
    "# tags\n",
    "# #tags['EXIF DateTimeOriginal']\n",
    "# image_datetime = tags['EXIF DateTimeOriginal'].values.replace(':','')\n",
    "# image_datetime = image_datetime.replace(' ','-')\n",
    "# image_datetime = image_datetime.replace('오후','')\n",
    "# image_datetime = image_datetime.replace('오전','')\n",
    "# image_datetime"
   ]
  },
  {
   "cell_type": "code",
   "execution_count": 7,
   "metadata": {},
   "outputs": [
    {
     "name": "stdout",
     "output_type": "stream",
     "text": [
      "/mnt/photo/temp_files/100MEDIA/Y0080128.jpg\n",
      ".jpg\n"
     ]
    },
    {
     "ename": "AttributeError",
     "evalue": "module '_photo_utilities' has no attribute 'get_fileInfo_from_file'",
     "output_type": "error",
     "traceback": [
      "\u001b[0;31m---------------------------------------------------------------------------\u001b[0m",
      "\u001b[0;31mAttributeError\u001b[0m                            Traceback (most recent call last)",
      "\u001b[0;32m/tmp/ipykernel_10136/688683694.py\u001b[0m in \u001b[0;36m<module>\u001b[0;34m\u001b[0m\n\u001b[1;32m      3\u001b[0m \u001b[0mprint\u001b[0m\u001b[0;34m(\u001b[0m\u001b[0mfpath\u001b[0m\u001b[0;34m)\u001b[0m\u001b[0;34m\u001b[0m\u001b[0;34m\u001b[0m\u001b[0m\n\u001b[1;32m      4\u001b[0m \u001b[0mprint\u001b[0m\u001b[0;34m(\u001b[0m\u001b[0mfpath\u001b[0m\u001b[0;34m.\u001b[0m\u001b[0msuffix\u001b[0m\u001b[0;34m)\u001b[0m\u001b[0;34m\u001b[0m\u001b[0;34m\u001b[0m\u001b[0m\n\u001b[0;32m----> 5\u001b[0;31m \u001b[0mfile_datetime\u001b[0m\u001b[0;34m,\u001b[0m \u001b[0mcamera_ModelID\u001b[0m\u001b[0;34m,\u001b[0m \u001b[0mSoftware\u001b[0m \u001b[0;34m=\u001b[0m \u001b[0m_photo_utilities\u001b[0m\u001b[0;34m.\u001b[0m\u001b[0mget_fileInfo_from_file\u001b[0m\u001b[0;34m(\u001b[0m\u001b[0mstr\u001b[0m\u001b[0;34m(\u001b[0m\u001b[0mfpath\u001b[0m\u001b[0;34m)\u001b[0m\u001b[0;34m)\u001b[0m\u001b[0;34m\u001b[0m\u001b[0;34m\u001b[0m\u001b[0m\n\u001b[0m\u001b[1;32m      6\u001b[0m \u001b[0;34m\u001b[0m\u001b[0m\n\u001b[1;32m      7\u001b[0m \u001b[0mprint\u001b[0m\u001b[0;34m(\u001b[0m\u001b[0mfile_datetime\u001b[0m\u001b[0;34m,\u001b[0m \u001b[0mcamera_ModelID\u001b[0m\u001b[0;34m,\u001b[0m \u001b[0mSoftware\u001b[0m\u001b[0;34m)\u001b[0m\u001b[0;34m\u001b[0m\u001b[0;34m\u001b[0m\u001b[0m\n",
      "\u001b[0;31mAttributeError\u001b[0m: module '_photo_utilities' has no attribute 'get_fileInfo_from_file'"
     ]
    }
   ],
   "source": [
    "import _photo_utilities\n",
    "fpath = Path(fullnames[0])\n",
    "print(fpath)\n",
    "print(fpath.suffix)\n",
    "file_datetime, camera_ModelID, Software = _photo_utilities.get_fileInfo_from_file(str(fpath))\n",
    "\n",
    "print(file_datetime, camera_ModelID, Software)"
   ]
  },
  {
   "cell_type": "code",
   "execution_count": 17,
   "metadata": {},
   "outputs": [],
   "source": [
    "# fpath = Path(fullnames[0])\n",
    "# image_datetime = _photo_utilities.get_image_datetime_str(str(fpath))\n",
    "# image_ModelID = _photo_utilities.get_image_Model_name(str(fpath)).replace(' ','')\n",
    "# image_Software = _photo_utilities.get_image_Software(str(fpath))\n",
    "# #print(\"image_datetime :\", image_datetime)\n",
    "\n",
    "# image_dt = datetime.strptime(image_datetime, '%Y%m%d-%H%M%S')\n",
    "# # print(\"image_dt :\", image_dt)\n",
    "# # print(f\"image_dt.month : {image_dt.month:02d}\")\n",
    "# # print(f\"image_dt.day : {image_dt.day:02d}\")\n",
    "# SAVEDIR = (BASEDIR/ str(image_dt.year) / f'{(image_dt.month):02d}' / f'{(image_dt.day):02d}_{image_ModelID}')\n",
    "# new_fname = f'{image_datetime}_{image_ModelID}_py{fpath.suffix}'\n",
    "# new_fpath = SAVEDIR / new_fname"
   ]
  },
  {
   "cell_type": "code",
   "execution_count": 5,
   "metadata": {},
   "outputs": [],
   "source": [
    "# ext = \".AVI\"\n",
    "# fullnames = [x for x in fullnames if ext in x]\n",
    "\n",
    "# print(\"len(fullnames):\", len(fullnames))\n",
    "# print(\"fullnames:\", fullnames)"
   ]
  },
  {
   "cell_type": "code",
   "execution_count": 6,
   "metadata": {},
   "outputs": [],
   "source": [
    "# fpath = Path(fullnames[0])\n",
    "# if fpath.suffix.lower() in ext_names_mov :\n",
    "#     mov_datetime = _photo_utilities.get_mov_creation_date(str(fpath))\n",
    "#     print(\"mov_datetime :\", mov_datetime)"
   ]
  },
  {
   "cell_type": "code",
   "execution_count": 7,
   "metadata": {},
   "outputs": [],
   "source": [
    "# fullnames = _Python_utilities.getFullnameListOfallFiles(NEW_files)\n",
    "# print(\"len(fullnames):\", len(fullnames))\n",
    "# print(\"fullnames:\", fullnames)"
   ]
  },
  {
   "cell_type": "code",
   "execution_count": 96,
   "metadata": {},
   "outputs": [],
   "source": [
    "# fpath = Path(fullnames[0])\n",
    "# fpath\n",
    "# mov_datetime = _photo_utilities.get_mov_creation_date(str(fpath))\n",
    "# mov_datetime\n",
    "# mov_dt = datetime.strptime(mov_datetime, '%Y%m%d-%H%M%S')\n",
    "# SAVEDIR = (BASEDIR/ str(mov_dt.year) / f'{(mov_dt.month):02d}' / f'{(mov_dt.day):02d}')\n",
    "# new_fname = f'{mov_datetime}_py{fpath.suffix}'\n",
    "# new_fpath = SAVEDIR / new_fname\n",
    "# new_fpath.exists()"
   ]
  },
  {
   "cell_type": "code",
   "execution_count": 97,
   "metadata": {},
   "outputs": [],
   "source": [
    "# new_date = datetime.strftime(datetime.now(), '%Y%m%d%H%M%S')\n",
    "# new_fpath = new_fpath.parents[0] / f'{new_fpath.stem}_{new_date}{new_fpath.suffix}'\n",
    "# new_fpath"
   ]
  },
  {
   "cell_type": "code",
   "execution_count": 8,
   "metadata": {},
   "outputs": [
    {
     "name": "stdout",
     "output_type": "stream",
     "text": [
      "/mnt/photo/temp_files/100MEDIA/Y0080128.jpg\n",
      "module '_photo_utilities' has no attribute 'get_image_datetime_str'\n",
      "/mnt/photo/temp_files/100MEDIA/Y0080129.jpg\n",
      "module '_photo_utilities' has no attribute 'get_image_datetime_str'\n",
      "/mnt/photo/temp_files/100MEDIA/Y0080130.jpg\n",
      "module '_photo_utilities' has no attribute 'get_image_datetime_str'\n",
      "/mnt/photo/temp_files/100MEDIA/Y0080131.jpg\n",
      "module '_photo_utilities' has no attribute 'get_image_datetime_str'\n",
      "/mnt/photo/temp_files/100MEDIA/Y0080132.jpg\n",
      "module '_photo_utilities' has no attribute 'get_image_datetime_str'\n",
      "/mnt/photo/temp_files/100MEDIA/YDXJ0125.THM\n",
      "/mnt/photo/temp_files/100MEDIA/YDXJ0125.mp4\n",
      "mov_datetime : 20240127-204534\n",
      "new_fpath : /mnt/photo/2024/01/27/20240127-204534_py.mp4\n",
      "/mnt/photo/2024/01/27/20240127-204534_py.mp4 is not exist...\n",
      "[Errno 2] No such file or directory: '/mnt/photo/temp_files/100MEDIA/YDXJ0125.mp4'\n",
      "/mnt/photo/temp_files/100MEDIA/YDXJ0125_thm.mp4\n",
      "mov_datetime : 20240127-204529\n",
      "new_fpath : /mnt/photo/2024/01/27/20240127-204529_py.mp4\n",
      "/mnt/photo/2024/01/27/20240127-204529_py.mp4 is not exist...\n",
      "[Errno 2] No such file or directory: '/mnt/photo/temp_files/100MEDIA/YDXJ0125_thm.mp4'\n",
      "/mnt/photo/temp_files/100MEDIA/YDXJ0126.mp4\n",
      "mov_datetime : 20240127-204535\n",
      "new_fpath : /mnt/photo/2024/01/27/20240127-204535_py.mp4\n",
      "/mnt/photo/2024/01/27/20240127-204535_py.mp4 is not exist...\n",
      "[Errno 2] No such file or directory: '/mnt/photo/temp_files/100MEDIA/YDXJ0126.mp4'\n",
      "/mnt/photo/temp_files/100MEDIA/YDXJ0126_thm.mp4\n",
      "mov_datetime : 20240127-204529\n",
      "new_fpath : /mnt/photo/2024/01/27/20240127-204529_py.mp4\n",
      "/mnt/photo/2024/01/27/20240127-204529_py.mp4 is already exist...\n",
      "/mnt/photo/temp_files/100MEDIA/YDXJ0127.THM\n",
      "/mnt/photo/temp_files/100MEDIA/YDXJ0127.mp4\n",
      "mov_datetime : 20240127-204529\n",
      "new_fpath : /mnt/photo/2024/01/27/20240127-204529_py.mp4\n",
      "/mnt/photo/2024/01/27/20240127-204529_py.mp4 is already exist...\n",
      "[Errno 2] No such file or directory: '/mnt/photo/2024/01/27/20240127-204529_py_20240127204703.mp4'\n",
      "/mnt/photo/temp_files/100MEDIA/YDXJ0127_thm.mp4\n",
      "mov_datetime : 20240127-204536\n",
      "new_fpath : /mnt/photo/2024/01/27/20240127-204536_py.mp4\n",
      "/mnt/photo/2024/01/27/20240127-204536_py.mp4 is not exist...\n",
      "[Errno 2] No such file or directory: '/mnt/photo/temp_files/100MEDIA/YDXJ0127_thm.mp4'\n",
      "/mnt/photo/temp_files/100MEDIA/YDXJ0133.THM\n",
      "/mnt/photo/temp_files/100MEDIA/YDXJ0133.mp4\n",
      "mov_datetime : 20240127-204536\n",
      "new_fpath : /mnt/photo/2024/01/27/20240127-204536_py.mp4\n",
      "/mnt/photo/2024/01/27/20240127-204536_py.mp4 is already exist...\n",
      "/mnt/photo/temp_files/100MEDIA/YDXJ0133_thm.mp4\n",
      "mov_datetime : 20240127-204529\n",
      "new_fpath : /mnt/photo/2024/01/27/20240127-204529_py.mp4\n",
      "/mnt/photo/2024/01/27/20240127-204529_py.mp4 is already exist...\n",
      "[Errno 2] No such file or directory: '/mnt/photo/2024/01/27/20240127-204529_py_20240127204703.mp4'\n"
     ]
    }
   ],
   "source": [
    "for fullname in fullnames[:]:\n",
    "    fpath = Path(fullname)\n",
    "    print(fpath)\n",
    "    if fpath.suffix.lower() in ext_names_mov :\n",
    "        try: \n",
    "            mov_datetime = _photo_utilities.get_mov_creation_date(str(fpath))\n",
    "            print(\"mov_datetime :\", mov_datetime)\n",
    "            mov_dt = datetime.strptime(mov_datetime, '%Y%m%d-%H%M%S')\n",
    "            # print(\"mov_dt :\", mov_dt)\n",
    "            # print(f\"mov_dt.month : {mov_dt.month:02d}\")\n",
    "            # print(f\"mov_dt.day : {mov_dt.day:02d}\")\n",
    "            SAVEDIR = (BASEDIR/ str(mov_dt.year) / f'{(mov_dt.month):02d}' / f'{(mov_dt.day):02d}')\n",
    "            new_fname = f'{mov_datetime}_py{fpath.suffix}'\n",
    "            new_fpath = SAVEDIR / new_fname\n",
    "            print(\"new_fpath :\", new_fpath)\n",
    "            for i in range(3, -1, -1):\n",
    "                if not new_fpath.parents[i].exists() :\n",
    "                    os.mkdir(str(new_fpath.parents[i]))\n",
    "                    #print(f'{str(new_fpath.parents[i])} is created...')\n",
    "                else :\n",
    "                    #print(f'{str(new_fpath.parents[i])} is exist...')\n",
    "                    pass\n",
    "            \n",
    "            if not new_fpath.exists() :\n",
    "                print(f'{str(new_fpath)} is not exist...')\n",
    "                shutil.move(str(fpath), str(new_fpath))\n",
    "            else : \n",
    "                print(f'{str(new_fpath)} is already exist...')\n",
    "                new_date = datetime.strftime(datetime.now(), '%Y%m%d%H%M%S')\n",
    "                new_fpath = new_fpath.parents[0] / f'{new_fpath.stem}_{new_date}{new_fpath.suffix}'\n",
    "            shutil.move(str(fpath), str(new_fpath))\n",
    "        except Exception as err :\n",
    "            print(err)\n",
    "            \n",
    "\n",
    "    if fpath.suffix.lower() in ext_names_img :\n",
    "        try: \n",
    "            image_datetime = _photo_utilities.get_image_datetime_str(fullname)\n",
    "            image_ModelID = _photo_utilities.get_image_Model_name(fullname).replace(' ','')\n",
    "            image_Software = _photo_utilities.get_image_Software(fullname)\n",
    "            #print(\"image_datetime :\", image_datetime)\n",
    "            \n",
    "            image_dt = datetime.strptime(image_datetime, '%Y%m%d-%H%M%S')\n",
    "            # print(\"image_dt :\", image_dt)\n",
    "            # print(f\"image_dt.month : {image_dt.month:02d}\")\n",
    "            # print(f\"image_dt.day : {image_dt.day:02d}\")\n",
    "            SAVEDIR = (BASEDIR/ str(image_dt.year) / f'{(image_dt.month):02d}' / f'{(image_dt.day):02d}_{image_ModelID}')\n",
    "            new_fname = f'{image_datetime}_{image_ModelID}_py{fpath.suffix}'\n",
    "            new_fpath = SAVEDIR / new_fname\n",
    "            print(\"new_fpath :\", new_fpath)\n",
    "            for i in range(3, -1, -1):\n",
    "                if not new_fpath.parents[i].exists() :\n",
    "                    os.mkdir(str(new_fpath.parents[i]))\n",
    "                    #print(f'{str(new_fpath.parents[i])} is created...')\n",
    "                else :\n",
    "                    #print(f'{str(new_fpath.parents[i])} is exist...')\n",
    "                    pass\n",
    "            if not new_fpath.exists() :\n",
    "                print(f'{str(new_fpath)} is not exist...')\n",
    "            else : \n",
    "                print(f'{str(new_fpath)} is already exist...')\n",
    "                new_date = datetime.strftime(datetime.now(), '%Y%m%d%H%M%S')\n",
    "                new_fpath = new_fpath.parents[0] / f'{new_fpath.stem}_{new_date}{new_fpath.suffix}'\n",
    "            shutil.move(str(fpath), str(new_fpath))\n",
    "        except Exception as err :\n",
    "            print(err)   \n",
    "    if fpath.suffix.lower() == '.png' :\n",
    "        try: \n",
    "            image_datetime = _photo_utilities.get_image_datetime_str(fullname)\n",
    "            image_ModelID = _photo_utilities.get_image_Model_name(fullname).replace(' ','')\n",
    "            image_Software = _photo_utilities.get_image_Software(fullname)\n",
    "            #print(\"image_datetime :\", image_datetime)\n",
    "            \n",
    "            image_dt = datetime.strptime(image_datetime, '%Y%m%d-%H%M%S')\n",
    "            # print(\"image_dt :\", image_dt)\n",
    "            # print(f\"image_dt.month : {image_dt.month:02d}\")\n",
    "            # print(f\"image_dt.day : {image_dt.day:02d}\")\n",
    "            SAVEDIR = (BASEDIR/ str(image_dt.year) / f'{(image_dt.month):02d}' / f'{(image_dt.day):02d}_{image_ModelID}')\n",
    "            new_fname = f'{image_datetime}_{image_ModelID}_py{fpath.suffix}'\n",
    "            new_fpath = SAVEDIR / new_fname\n",
    "            print(\"new_fpath :\", new_fpath)\n",
    "            for i in range(3, -1, -1):\n",
    "                if not new_fpath.parents[i].exists() :\n",
    "                    os.mkdir(str(new_fpath.parents[i]))\n",
    "                    #print(f'{str(new_fpath.parents[i])} is created...')\n",
    "                else :\n",
    "                    #print(f'{str(new_fpath.parents[i])} is exist...')\n",
    "                    pass\n",
    "            if not new_fpath.exists() :\n",
    "                print(f'{str(new_fpath)} is not exist...')\n",
    "            else : \n",
    "                print(f'{str(new_fpath)} is already exist...')\n",
    "                new_date = datetime.strftime(datetime.now(), '%Y%m%d%H%M%S')\n",
    "                new_fpath = new_fpath.parents[0] / f'{new_fpath.stem}_{new_date}{new_fpath.suffix}'\n",
    "            shutil.move(str(fpath), str(new_fpath))\n",
    "        except Exception as err :\n",
    "            print(err)   "
   ]
  },
  {
   "cell_type": "code",
   "execution_count": 23,
   "metadata": {},
   "outputs": [
    {
     "name": "stdout",
     "output_type": "stream",
     "text": [
      "len(DOINGDIRs):  1\n",
      "fpaths ['/mnt/photo/temp_files/2020-05-02_Apple_iPhone-XR_-/20200502-090715_Apple_iPhone-XR_-_00000013_py.heic']\n",
      "fpath /mnt/photo/temp_files/2020-05-02_Apple_iPhone-XR_-/20200502-090715_Apple_iPhone-XR_-_00000013_py.heic\n",
      "len(DOINGDIRs):  1\n",
      "fpaths ['/mnt/photo/temp_files/2020-05-02_Apple_iPhone-XR_-/20200502-090715_Apple_iPhone-XR_-_00000013_py.heic']\n",
      "fpath /mnt/photo/temp_files/2020-05-02_Apple_iPhone-XR_-/20200502-090715_Apple_iPhone-XR_-_00000013_py.heic\n",
      "len(DOINGDIRs):  1\n",
      "fpaths ['/mnt/photo/temp_files/2020-05-02_Apple_iPhone-XR_-/20200502-090715_Apple_iPhone-XR_-_00000013_py.heic']\n",
      "fpath /mnt/photo/temp_files/2020-05-02_Apple_iPhone-XR_-/20200502-090715_Apple_iPhone-XR_-_00000013_py.heic\n",
      "len(DOINGDIRs):  1\n",
      "fpaths ['/mnt/photo/temp_files/2020-05-02_Apple_iPhone-XR_-/20200502-090715_Apple_iPhone-XR_-_00000013_py.heic']\n",
      "fpath /mnt/photo/temp_files/2020-05-02_Apple_iPhone-XR_-/20200502-090715_Apple_iPhone-XR_-_00000013_py.heic\n",
      "len(DOINGDIRs):  1\n",
      "fpaths ['/mnt/photo/temp_files/2020-05-02_Apple_iPhone-XR_-/20200502-090715_Apple_iPhone-XR_-_00000013_py.heic']\n",
      "fpath /mnt/photo/temp_files/2020-05-02_Apple_iPhone-XR_-/20200502-090715_Apple_iPhone-XR_-_00000013_py.heic\n",
      "len(DOINGDIRs):  1\n",
      "fpaths ['/mnt/photo/temp_files/2020-05-02_Apple_iPhone-XR_-/20200502-090715_Apple_iPhone-XR_-_00000013_py.heic']\n",
      "fpath /mnt/photo/temp_files/2020-05-02_Apple_iPhone-XR_-/20200502-090715_Apple_iPhone-XR_-_00000013_py.heic\n",
      "len(DOINGDIRs):  1\n",
      "fpaths ['/mnt/photo/temp_files/2020-05-02_Apple_iPhone-XR_-/20200502-090715_Apple_iPhone-XR_-_00000013_py.heic']\n",
      "fpath /mnt/photo/temp_files/2020-05-02_Apple_iPhone-XR_-/20200502-090715_Apple_iPhone-XR_-_00000013_py.heic\n",
      "len(DOINGDIRs):  1\n",
      "fpaths ['/mnt/photo/temp_files/2020-05-02_Apple_iPhone-XR_-/20200502-090715_Apple_iPhone-XR_-_00000013_py.heic']\n",
      "fpath /mnt/photo/temp_files/2020-05-02_Apple_iPhone-XR_-/20200502-090715_Apple_iPhone-XR_-_00000013_py.heic\n",
      "len(DOINGDIRs):  1\n",
      "fpaths ['/mnt/photo/temp_files/2020-05-02_Apple_iPhone-XR_-/20200502-090715_Apple_iPhone-XR_-_00000013_py.heic']\n",
      "fpath /mnt/photo/temp_files/2020-05-02_Apple_iPhone-XR_-/20200502-090715_Apple_iPhone-XR_-_00000013_py.heic\n",
      "len(DOINGDIRs):  1\n",
      "fpaths ['/mnt/photo/temp_files/2020-05-02_Apple_iPhone-XR_-/20200502-090715_Apple_iPhone-XR_-_00000013_py.heic']\n",
      "fpath /mnt/photo/temp_files/2020-05-02_Apple_iPhone-XR_-/20200502-090715_Apple_iPhone-XR_-_00000013_py.heic\n"
     ]
    }
   ],
   "source": [
    "#%%\n",
    "#############################################################################\n",
    "# for i in range(4) :\n",
    "#     fullnames = _Python_utilities.getFullnameListOfallsubDirs(str(NEW_files))\n",
    "#     print (\"fullnames: {}\".format(fullnames))\n",
    "#     for fullname in fullnames[:] :\n",
    "#         # Check is empty..\n",
    "#         if len(os.listdir(fullname)) == 0 :\n",
    "#             shutil.rmtree(r\"{}\".format(fullname)) # Delete..\n",
    "#             print (\"rmtree {}\\n\".format(fullname))\n",
    "for i in range(10):\n",
    "    DOINGDIR = NEW_files\n",
    "    DOINGDIRs = sorted(_Python_utilities.getFullnameListOfallsubDirs(DOINGDIR))\n",
    "    #print (\"DOINGDIRs: \", format(DOINGDIRs))\n",
    "    print (\"len(DOINGDIRs): \", format(len(DOINGDIRs)))\n",
    "    try: \n",
    "        for DOINGDIR in DOINGDIRs : \n",
    "            if len(os.listdir(str(DOINGDIR))) == 0 :\n",
    "                shutil.rmtree(f\"{str(DOINGDIR)}\") # Delete..\n",
    "                print (f\"rmtree {str(DOINGDIR)}\")\n",
    "            else : \n",
    "                fpaths = _Python_utilities.getFullnameListOfallFiles(str(DOINGDIR))\n",
    "                print(\"fpaths\", fpaths)\n",
    "\n",
    "                for fpath in fpaths[:]:\n",
    "                    print(\"fpath\", fpath)\n",
    "\n",
    "                    if fpath[-4:].lower() in [\".txt\", \".log\", \".ini\",\n",
    "                                            \".csv\", \".thm\" , \"proj\"] \\\n",
    "                                            and os.path.isfile(fpath):\n",
    "                        os.remove(\"{}\".format(fpath))\n",
    "                        print(\"{} is removed...\".format(fpath))\n",
    "    except Exception as err :\n",
    "            print(err) "
   ]
  },
  {
   "cell_type": "code",
   "execution_count": 78,
   "metadata": {},
   "outputs": [
    {
     "data": {
      "text/plain": [
       "<PosixPath.parents>"
      ]
     },
     "execution_count": 78,
     "metadata": {},
     "output_type": "execute_result"
    }
   ],
   "source": [
    "SAVEDIR.parents"
   ]
  },
  {
   "cell_type": "code",
   "execution_count": 36,
   "metadata": {},
   "outputs": [
    {
     "data": {
      "text/plain": [
       "'20170720-140733'"
      ]
     },
     "execution_count": 36,
     "metadata": {},
     "output_type": "execute_result"
    }
   ],
   "source": [
    "fpath = Path('/mnt/photo/temp_files/movfile/2017/2017-07-20/20170720-050732_00001663_py.mov')\n",
    "mov_datetime = _photo_utilities.get_mov_creation_date(str(fpath))\n",
    "mov_datetime"
   ]
  },
  {
   "cell_type": "code",
   "execution_count": 101,
   "metadata": {},
   "outputs": [
    {
     "name": "stdout",
     "output_type": "stream",
     "text": [
      "image_datetime 20190621-164841\n",
      "image_ModelID -\n",
      "image_Software -\n"
     ]
    }
   ],
   "source": [
    "fpath = Path('/mnt/photo/pngfile/2019/2019-06-21_-_-/20190621-164841_-_-_00001303_py.png')\n",
    "image_datetime = _photo_utilities.get_image_datetime_str(str(fpath))\n",
    "print(\"image_datetime\", image_datetime)\n",
    "image_ModelID = _photo_utilities.get_image_Model_name(str(fpath)).replace(' ','')\n",
    "print(\"image_ModelID\", image_ModelID)\n",
    "image_Software = _photo_utilities.get_image_Software(str(fpath))\n",
    "print(\"image_Software\", image_Software)"
   ]
  }
 ],
 "metadata": {
  "kernelspec": {
   "display_name": "photo_Python_env",
   "language": "python",
   "name": "python3"
  },
  "language_info": {
   "codemirror_mode": {
    "name": "ipython",
    "version": 3
   },
   "file_extension": ".py",
   "mimetype": "text/x-python",
   "name": "python",
   "nbconvert_exporter": "python",
   "pygments_lexer": "ipython3",
   "version": "3.7.16"
  },
  "orig_nbformat": 4
 },
 "nbformat": 4,
 "nbformat_minor": 2
}
