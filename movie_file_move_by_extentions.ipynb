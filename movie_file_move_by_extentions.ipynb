{
 "cells": [
  {
   "cell_type": "markdown",
   "metadata": {},
   "source": [
    "### move raw files"
   ]
  },
  {
   "cell_type": "code",
   "execution_count": 57,
   "metadata": {},
   "outputs": [],
   "source": [
    "import os\n",
    "from datetime import datetime\n",
    "import _photo_utilities\n",
    "from pathlib import Path"
   ]
  },
  {
   "cell_type": "code",
   "execution_count": 41,
   "metadata": {},
   "outputs": [],
   "source": [
    "BASEDIR = Path(\"/mnt/photo/\")\n",
    "NEW_files = BASEDIR / \"NEW_files\""
   ]
  },
  {
   "cell_type": "code",
   "execution_count": 58,
   "metadata": {},
   "outputs": [
    {
     "name": "stdout",
     "output_type": "stream",
     "text": [
      "len(fullnames): 307\n",
      "fullnames: ['/mnt/photo/NEW_files/100EOS5D/IMGL4506.CR2', '/mnt/photo/NEW_files/100EOS5D/IMGL4506.JPG', '/mnt/photo/NEW_files/100EOS5D/IMGL4507.CR2', '/mnt/photo/NEW_files/100EOS5D/IMGL4507.JPG', '/mnt/photo/NEW_files/100EOS5D/IMGL4508.CR2', '/mnt/photo/NEW_files/100EOS5D/IMGL4508.JPG', '/mnt/photo/NEW_files/100EOS5D/IMGL4509.CR2', '/mnt/photo/NEW_files/100EOS5D/IMGL4509.JPG', '/mnt/photo/NEW_files/100EOS5D/IMGL4510.CR2', '/mnt/photo/NEW_files/100EOS5D/IMGL4510.JPG', '/mnt/photo/NEW_files/100EOS5D/IMGL4511.CR2', '/mnt/photo/NEW_files/100EOS5D/IMGL4511.JPG', '/mnt/photo/NEW_files/100EOS5D/IMGL4512.CR2', '/mnt/photo/NEW_files/100EOS5D/IMGL4512.JPG', '/mnt/photo/NEW_files/100EOS5D/IMGL4513.JPG', '/mnt/photo/NEW_files/100EOS5D/IMGL4514.JPG', '/mnt/photo/NEW_files/100EOS5D/IMGL4515.JPG', '/mnt/photo/NEW_files/100EOS5D/IMGL4516.JPG', '/mnt/photo/NEW_files/100EOS5D/IMGL4517.JPG', '/mnt/photo/NEW_files/100EOS5D/IMGL4518.JPG', '/mnt/photo/NEW_files/100EOS5D/IMGL4519.JPG', '/mnt/photo/NEW_files/100EOS5D/IMGL4520.JPG', '/mnt/photo/NEW_files/100EOS5D/IMGL4521.JPG', '/mnt/photo/NEW_files/100EOS5D/IMGL4522.JPG', '/mnt/photo/NEW_files/100EOS5D/IMGL4523.JPG', '/mnt/photo/NEW_files/100EOS5D/IMGL4524.JPG', '/mnt/photo/NEW_files/100EOS5D/IMGL4525.JPG', '/mnt/photo/NEW_files/100EOS5D/IMGL4526.JPG', '/mnt/photo/NEW_files/100EOS5D/IMGL4527.JPG', '/mnt/photo/NEW_files/100EOS5D/IMGL4528.JPG', '/mnt/photo/NEW_files/100EOS5D/IMGL4529.JPG', '/mnt/photo/NEW_files/100EOS5D/IMGL4530.JPG', '/mnt/photo/NEW_files/100EOS5D/IMGL4531.JPG', '/mnt/photo/NEW_files/100EOS5D/IMGL4532.JPG', '/mnt/photo/NEW_files/100EOS5D/IMGL4533.JPG', '/mnt/photo/NEW_files/100EOS5D/IMGL4534.JPG', '/mnt/photo/NEW_files/100EOS5D/IMGL4535.JPG', '/mnt/photo/NEW_files/100EOS5D/IMGL4536.JPG', '/mnt/photo/NEW_files/100EOS5D/IMGL4537.JPG', '/mnt/photo/NEW_files/100EOS5D/IMGL4538.JPG', '/mnt/photo/NEW_files/100EOS5D/IMGL4539.JPG', '/mnt/photo/NEW_files/100EOS5D/IMGL4540.JPG', '/mnt/photo/NEW_files/100EOS5D/IMGL4541.JPG', '/mnt/photo/NEW_files/100EOS5D/IMGL4542.JPG', '/mnt/photo/NEW_files/100EOS5D/IMGL4543.JPG', '/mnt/photo/NEW_files/100EOS5D/IMGL4544.JPG', '/mnt/photo/NEW_files/100EOS5D/IMGL4545.JPG', '/mnt/photo/NEW_files/100EOS5D/IMGL4546.JPG', '/mnt/photo/NEW_files/100EOS5D/IMGL4547.JPG', '/mnt/photo/NEW_files/100EOS5D/IMGL4548.JPG', '/mnt/photo/NEW_files/100EOS5D/IMGL4549.JPG', '/mnt/photo/NEW_files/100EOS5D/IMGL4550.JPG', '/mnt/photo/NEW_files/100EOS5D/IMGL4551.JPG', '/mnt/photo/NEW_files/100EOS5D/IMGL4552.JPG', '/mnt/photo/NEW_files/100EOS5D/IMGL4553.JPG', '/mnt/photo/NEW_files/100EOS5D/IMGL4554.JPG', '/mnt/photo/NEW_files/100EOS5D/IMGL4555.JPG', '/mnt/photo/NEW_files/100EOS5D/IMGL4556.JPG', '/mnt/photo/NEW_files/100EOS5D/IMGL4557.JPG', '/mnt/photo/NEW_files/100EOS5D/IMGL4558.JPG', '/mnt/photo/NEW_files/100EOS5D/IMGL4559.JPG', '/mnt/photo/NEW_files/100EOS5D/IMGL4560.JPG', '/mnt/photo/NEW_files/100EOS5D/IMGL4562.JPG', '/mnt/photo/NEW_files/100EOS5D/IMGL4563.JPG', '/mnt/photo/NEW_files/100EOS5D/IMGL4564.JPG', '/mnt/photo/NEW_files/100EOS5D/IMGL4565.JPG', '/mnt/photo/NEW_files/100EOS5D/IMGL4566.JPG', '/mnt/photo/NEW_files/100EOS5D/IMGL4567.JPG', '/mnt/photo/NEW_files/100EOS5D/IMGL4568.JPG', '/mnt/photo/NEW_files/100EOS5D/IMGL4569.JPG', '/mnt/photo/NEW_files/100EOS5D/IMGL4570.JPG', '/mnt/photo/NEW_files/100EOS5D/IMGL4571.JPG', '/mnt/photo/NEW_files/100EOS5D/IMGL4572.JPG', '/mnt/photo/NEW_files/100EOS5D/IMGL4573.JPG', '/mnt/photo/NEW_files/100EOS5D/IMGL4574.JPG', '/mnt/photo/NEW_files/100EOS5D/IMGL4575.JPG', '/mnt/photo/NEW_files/100EOS5D/IMGL4576.JPG', '/mnt/photo/NEW_files/100EOS5D/IMGL4577.JPG', '/mnt/photo/NEW_files/100EOS5D/IMGL4578.JPG', '/mnt/photo/NEW_files/100EOS5D/IMGL4579.JPG', '/mnt/photo/NEW_files/100EOS5D/IMGL4580.JPG', '/mnt/photo/NEW_files/100EOS5D/IMGL4581.JPG', '/mnt/photo/NEW_files/100EOS5D/IMGL4582.JPG', '/mnt/photo/NEW_files/100EOS5D/IMGL4583.JPG', '/mnt/photo/NEW_files/100EOS5D/IMGL4584.JPG', '/mnt/photo/NEW_files/100EOS5D/IMGL4585.JPG', '/mnt/photo/NEW_files/100EOS5D/IMGL4586.JPG', '/mnt/photo/NEW_files/100EOS5D/IMGL4587.JPG', '/mnt/photo/NEW_files/100EOS5D/IMGL4588.JPG', '/mnt/photo/NEW_files/100EOS5D/IMGL4589.JPG', '/mnt/photo/NEW_files/100EOS5D/IMGL4590.JPG', '/mnt/photo/NEW_files/100EOS5D/IMGL4591.JPG', '/mnt/photo/NEW_files/100EOS5D/IMGL4592.JPG', '/mnt/photo/NEW_files/100EOS5D/IMGL4593.JPG', '/mnt/photo/NEW_files/100EOS5D/IMGL4594.JPG', '/mnt/photo/NEW_files/100EOS5D/IMGL4595.JPG', '/mnt/photo/NEW_files/100EOS5D/IMGL4596.JPG', '/mnt/photo/NEW_files/100EOS5D/IMGL4597.JPG', '/mnt/photo/NEW_files/100EOS5D/IMGL4598.JPG', '/mnt/photo/NEW_files/100EOS5D/IMGL4599.JPG', '/mnt/photo/NEW_files/100EOS5D/IMGL4600.JPG', '/mnt/photo/NEW_files/100EOS5D/IMGL4601.JPG', '/mnt/photo/NEW_files/100EOS5D/IMGL4602.JPG', '/mnt/photo/NEW_files/100EOS5D/IMGL4603.JPG', '/mnt/photo/NEW_files/100EOS5D/IMGL4604.JPG', '/mnt/photo/NEW_files/100EOS5D/IMGL4605.JPG', '/mnt/photo/NEW_files/100EOS5D/IMGL4606.JPG', '/mnt/photo/NEW_files/100EOS5D/IMGL4607.JPG', '/mnt/photo/NEW_files/100EOS5D/IMGL4608.JPG', '/mnt/photo/NEW_files/100EOS5D/IMGL4609.JPG', '/mnt/photo/NEW_files/100EOS5D/IMGL4610.JPG', '/mnt/photo/NEW_files/100EOS5D/IMGL4611.JPG', '/mnt/photo/NEW_files/100EOS5D/IMGL4612.JPG', '/mnt/photo/NEW_files/100EOS5D/IMGL4613.JPG', '/mnt/photo/NEW_files/100EOS5D/IMGL4614.JPG', '/mnt/photo/NEW_files/100EOS5D/IMGL4615.JPG', '/mnt/photo/NEW_files/100EOS5D/IMGL4616.JPG', '/mnt/photo/NEW_files/100EOS5D/IMGL4617.JPG', '/mnt/photo/NEW_files/100EOS5D/IMGL4618.JPG', '/mnt/photo/NEW_files/100EOS5D/IMGL4619.JPG', '/mnt/photo/NEW_files/100EOS5D/IMGL4620.JPG', '/mnt/photo/NEW_files/100EOS5D/IMGL4621.JPG', '/mnt/photo/NEW_files/100EOS5D/IMGL4622.JPG', '/mnt/photo/NEW_files/100EOS5D/IMGL4623.JPG', '/mnt/photo/NEW_files/100EOS5D/IMGL4624.JPG', '/mnt/photo/NEW_files/100EOS5D/IMGL4625.JPG', '/mnt/photo/NEW_files/100EOS5D/IMGL4626.JPG', '/mnt/photo/NEW_files/100EOS5D/IMGL4627.JPG', '/mnt/photo/NEW_files/100EOS5D/IMGL4628.JPG', '/mnt/photo/NEW_files/100EOS5D/IMGL4629.JPG', '/mnt/photo/NEW_files/100EOS5D/IMGL4630.JPG', '/mnt/photo/NEW_files/100EOS5D/IMGL4631.JPG', '/mnt/photo/NEW_files/100EOS5D/IMGL4632.JPG', '/mnt/photo/NEW_files/100EOS5D/IMGL4633.JPG', '/mnt/photo/NEW_files/100EOS5D/IMGL4634.JPG', '/mnt/photo/NEW_files/100EOS5D/IMGL4635.JPG', '/mnt/photo/NEW_files/100EOS5D/IMGL4636.JPG', '/mnt/photo/NEW_files/100EOS5D/IMGL4637.JPG', '/mnt/photo/NEW_files/100EOS5D/IMGL4638.JPG', '/mnt/photo/NEW_files/100EOS5D/IMGL4639.JPG', '/mnt/photo/NEW_files/100EOS5D/IMGL4640.JPG', '/mnt/photo/NEW_files/100EOS5D/IMGL4641.JPG', '/mnt/photo/NEW_files/100EOS5D/IMGL4642.JPG', '/mnt/photo/NEW_files/100EOS5D/IMGL4643.JPG', '/mnt/photo/NEW_files/100EOS5D/IMGL4644.JPG', '/mnt/photo/NEW_files/100EOS5D/IMGL4645.JPG', '/mnt/photo/NEW_files/100EOS5D/IMGL4646.JPG', '/mnt/photo/NEW_files/100EOS5D/IMGL4647.JPG', '/mnt/photo/NEW_files/100EOS5D/IMGL4648.JPG', '/mnt/photo/NEW_files/100EOS5D/IMGL4649.JPG', '/mnt/photo/NEW_files/100EOS5D/IMGL4650.JPG', '/mnt/photo/NEW_files/100EOS5D/IMGL4651.JPG', '/mnt/photo/NEW_files/100EOS5D/IMGL4652.JPG', '/mnt/photo/NEW_files/100EOS5D/IMGL4653.JPG', '/mnt/photo/NEW_files/100EOS5D/IMGL4654.JPG', '/mnt/photo/NEW_files/100EOS5D/IMGL4655.JPG', '/mnt/photo/NEW_files/100EOS5D/IMGL4656.JPG', '/mnt/photo/NEW_files/100EOS5D/IMGL4657.JPG', '/mnt/photo/NEW_files/100EOS5D/IMGL4658.JPG', '/mnt/photo/NEW_files/100EOS5D/IMGL4659.JPG', '/mnt/photo/NEW_files/100EOS5D/IMGL4660.JPG', '/mnt/photo/NEW_files/100EOS5D/IMGL4661.JPG', '/mnt/photo/NEW_files/100EOS5D/IMGL4662.JPG', '/mnt/photo/NEW_files/100EOS5D/IMGL4663.JPG', '/mnt/photo/NEW_files/100EOS5D/IMGL4664.JPG', '/mnt/photo/NEW_files/100EOS5D/IMGL4665.JPG', '/mnt/photo/NEW_files/100EOS5D/IMGL4666.JPG', '/mnt/photo/NEW_files/100EOS5D/IMGL4667.JPG', '/mnt/photo/NEW_files/100EOS5D/IMGL4668.JPG', '/mnt/photo/NEW_files/100EOS5D/IMGL4669.JPG', '/mnt/photo/NEW_files/100EOS5D/IMGL4670.JPG', '/mnt/photo/NEW_files/100EOS5D/IMGL4671.JPG', '/mnt/photo/NEW_files/100EOS5D/IMGL4672.JPG', '/mnt/photo/NEW_files/100EOS5D/IMGL4673.JPG', '/mnt/photo/NEW_files/100EOS5D/IMGL4674.JPG', '/mnt/photo/NEW_files/100EOS5D/IMGL4675.JPG', '/mnt/photo/NEW_files/100EOS5D/IMGL4676.JPG', '/mnt/photo/NEW_files/100EOS5D/IMGL4677.JPG', '/mnt/photo/NEW_files/100EOS5D/IMGL4678.JPG', '/mnt/photo/NEW_files/100EOS5D/IMGL4679.JPG', '/mnt/photo/NEW_files/100EOS5D/IMGL4680.JPG', '/mnt/photo/NEW_files/100EOS5D/IMGL4681.JPG', '/mnt/photo/NEW_files/100EOS5D/IMGL4682.JPG', '/mnt/photo/NEW_files/100EOS5D/IMGL4683.JPG', '/mnt/photo/NEW_files/100EOS5D/IMGL4684.JPG', '/mnt/photo/NEW_files/100EOS5D/IMGL4685.JPG', '/mnt/photo/NEW_files/100EOS5D/IMGL4686.JPG', '/mnt/photo/NEW_files/100EOS5D/IMGL4687.JPG', '/mnt/photo/NEW_files/100EOS5D/IMGL4688.JPG', '/mnt/photo/NEW_files/100EOS5D/IMGL4689.JPG', '/mnt/photo/NEW_files/100EOS5D/IMGL4690.JPG', '/mnt/photo/NEW_files/100EOS5D/IMGL4691.JPG', '/mnt/photo/NEW_files/100EOS5D/IMG_9834.xmp', '/mnt/photo/NEW_files/100EOS5D/Junha_BP.png', '/mnt/photo/NEW_files/100EOS5D/Junha_BP_s.png', '/mnt/photo/NEW_files/428CANON/MVI_9988.AVI', '/mnt/photo/NEW_files/428CANON/MVI_9988.THM', '/mnt/photo/NEW_files/428CANON/MVI_9989.AVI', '/mnt/photo/NEW_files/428CANON/MVI_9989.THM', '/mnt/photo/NEW_files/428CANON/MVI_9990.AVI', '/mnt/photo/NEW_files/428CANON/MVI_9990.THM', '/mnt/photo/NEW_files/428CANON/MVI_9991.AVI', '/mnt/photo/NEW_files/428CANON/MVI_9991.THM', '/mnt/photo/NEW_files/428CANON/MVI_9999.AVI', '/mnt/photo/NEW_files/428CANON/MVI_9999.THM', '/mnt/photo/NEW_files/429CANON/MVI_0001.AVI', '/mnt/photo/NEW_files/429CANON/MVI_0001.THM', '/mnt/photo/NEW_files/429CANON/MVI_0002.AVI', '/mnt/photo/NEW_files/429CANON/MVI_0002.THM', '/mnt/photo/NEW_files/429CANON/MVI_0003.AVI', '/mnt/photo/NEW_files/429CANON/MVI_0003.THM', '/mnt/photo/NEW_files/DJI/.DJI_1536.MP4.avc1', '/mnt/photo/NEW_files/DJI/.DJI_1536.MP4.trinf', '/mnt/photo/NEW_files/DJI/101MEDIA/DJI_1484.MP4', '/mnt/photo/NEW_files/DJI/101MEDIA/DJI_1485.MP4', '/mnt/photo/NEW_files/DJI/101MEDIA/DJI_1486.MP4', '/mnt/photo/NEW_files/DJI/101MEDIA/DJI_1487.MP4', '/mnt/photo/NEW_files/DJI/101MEDIA/DJI_1488.MP4', '/mnt/photo/NEW_files/DJI/101MEDIA/DJI_1489.MP4', '/mnt/photo/NEW_files/DJI/101MEDIA/DJI_1490.JPG', '/mnt/photo/NEW_files/DJI/101MEDIA/DJI_1491.MP4', '/mnt/photo/NEW_files/DJI/101MEDIA/DJI_1492.MP4', '/mnt/photo/NEW_files/DJI/101MEDIA/DJI_1493.MP4', '/mnt/photo/NEW_files/DJI/101MEDIA/DJI_1494.JPG', '/mnt/photo/NEW_files/DJI/101MEDIA/DJI_1495.MP4', '/mnt/photo/NEW_files/DJI/101MEDIA/DJI_1496.JPG', '/mnt/photo/NEW_files/DJI/101MEDIA/DJI_1497.JPG', '/mnt/photo/NEW_files/DJI/101MEDIA/DJI_1498.MP4', '/mnt/photo/NEW_files/DJI/101MEDIA/DJI_1499.JPG', '/mnt/photo/NEW_files/DJI/101MEDIA/DJI_1500.JPG', '/mnt/photo/NEW_files/DJI/101MEDIA/DJI_1501.JPG', '/mnt/photo/NEW_files/DJI/101MEDIA/DJI_1502.JPG', '/mnt/photo/NEW_files/DJI/101MEDIA/DJI_1503.MP4', '/mnt/photo/NEW_files/DJI/101MEDIA/DJI_1504.MP4', '/mnt/photo/NEW_files/DJI/101MEDIA/DJI_1505.JPG', '/mnt/photo/NEW_files/DJI/101MEDIA/DJI_1506.MP4', '/mnt/photo/NEW_files/DJI/101MEDIA/DJI_1507.MP4', '/mnt/photo/NEW_files/DJI/101MEDIA/DJI_1508.MP4', '/mnt/photo/NEW_files/DJI/101MEDIA/DJI_1509.MP4', '/mnt/photo/NEW_files/DJI/DJI_1528.JPG', '/mnt/photo/NEW_files/DJI/DJI_1529.JPG', '/mnt/photo/NEW_files/DJI/DJI_1530.MP4', '/mnt/photo/NEW_files/DJI/DJI_1531.JPG', '/mnt/photo/NEW_files/DJI/DJI_1532.MP4', '/mnt/photo/NEW_files/DJI/DJI_1533.MP4', '/mnt/photo/NEW_files/DJI/DJI_1534.MP4', '/mnt/photo/NEW_files/DJI/DJI_1535.MP4', '/mnt/photo/NEW_files/Downloads-20230218T150727Z-001.zip', '/mnt/photo/NEW_files/Downloads-20230218T150727Z-002.zip', '/mnt/photo/NEW_files/Downloads-20230218T150727Z-003.zip', '/mnt/photo/NEW_files/Moblie/2020/2020-09-17/IMG_0801.HEIC', '/mnt/photo/NEW_files/Moblie/2020/2020-09-17/IMG_0802.HEIC', '/mnt/photo/NEW_files/Moblie/2020/2020-09-17/IMG_0803.HEIC', '/mnt/photo/NEW_files/Moblie/2020/2020-09-18/IMG_0811.HEIC', '/mnt/photo/NEW_files/Moblie/2020/2020-09-18/IMG_0812.HEIC', '/mnt/photo/NEW_files/Moblie/2020/2020-09-18/IMG_0813.HEIC', '/mnt/photo/NEW_files/Moblie/2020/2020-12-04/IMG_1239.HEIC', '/mnt/photo/NEW_files/Moblie/anyphone/2017/Voice Recorder/음성 녹음_001.m4a', '/mnt/photo/NEW_files/Moblie/anyphone/2017/Voice Recorder/음성 녹음_002.m4a', '/mnt/photo/NEW_files/Moblie/anyphone/2017/Voice Recorder/음성 녹음_003.m4a', '/mnt/photo/NEW_files/Moblie/anyphone/2017/Voice Recorder/음성 녹음_004.m4a', '/mnt/photo/NEW_files/Moblie/anyphone/2017/Voice Recorder/음성 녹음_005.m4a', '/mnt/photo/NEW_files/Moblie/anyphone/2017/Voice Recorder/음성 녹음_006.m4a', '/mnt/photo/NEW_files/Video/DJI_1484.MP4', '/mnt/photo/NEW_files/Video/DJI_1485.MP4', '/mnt/photo/NEW_files/Video/DJI_1486.MP4', '/mnt/photo/NEW_files/Video/DJI_1487.MP4', '/mnt/photo/NEW_files/Video/DJI_1488.MP4', '/mnt/photo/NEW_files/Video/DJI_1489.MP4', '/mnt/photo/NEW_files/Video/DJI_1490.JPG', '/mnt/photo/NEW_files/Video/DJI_1491.MP4', '/mnt/photo/NEW_files/Video/DJI_1492.MP4', '/mnt/photo/NEW_files/Video/DJI_1493.MP4', '/mnt/photo/NEW_files/Video/DJI_1494.JPG', '/mnt/photo/NEW_files/Video/DJI_1495.MP4', '/mnt/photo/NEW_files/Video/DJI_1496.JPG', '/mnt/photo/NEW_files/Video/DJI_1497.JPG', '/mnt/photo/NEW_files/Video/DJI_1498.MP4', '/mnt/photo/NEW_files/Video/DJI_1499.JPG', '/mnt/photo/NEW_files/Video/DJI_1500.JPG', '/mnt/photo/NEW_files/Video/DJI_1501.JPG', '/mnt/photo/NEW_files/Video/DJI_1502.JPG', '/mnt/photo/NEW_files/Video/DJI_1503.MP4', '/mnt/photo/NEW_files/Video/DJI_1504.MP4', '/mnt/photo/NEW_files/Video/DJI_1505.JPG', '/mnt/photo/NEW_files/Video/DJI_1506.MP4', '/mnt/photo/NEW_files/Video/DJI_1507.MP4', '/mnt/photo/NEW_files/Video/DJI_1508.MP4', '/mnt/photo/NEW_files/Video/DJI_1509.MP4', '/mnt/photo/NEW_files/Video/DJI_1510.MP4', '/mnt/photo/NEW_files/Video/DJI_1511.MP4', '/mnt/photo/NEW_files/Video/DJI_1512.MP4', '/mnt/photo/NEW_files/Video/DJI_1513.MP4', '/mnt/photo/NEW_files/Video/DJI_1514.MP4', '/mnt/photo/NEW_files/Video/DJI_1515.MP4', '/mnt/photo/NEW_files/Video/DJI_1516.MP4', '/mnt/photo/NEW_files/Video/DJI_1517.MP4', '/mnt/photo/NEW_files/Video/DJI_1518.MP4', '/mnt/photo/NEW_files/Video/DJI_1519.MP4', '/mnt/photo/NEW_files/Video/DJI_1520.MP4', '/mnt/photo/NEW_files/Video/DJI_1521.MP4', '/mnt/photo/NEW_files/Video/DJI_1522.MP4', '/mnt/photo/NEW_files/Video/DJI_1523.MP4', '/mnt/photo/NEW_files/Video/DJI_1524.MP4', '/mnt/photo/NEW_files/Video/DJI_1525.MP4', '/mnt/photo/NEW_files/Video/DJI_1526.MP4', '/mnt/photo/NEW_files/Video/DJI_1527.MP4']\n"
     ]
    }
   ],
   "source": [
    "fullnames = _photo_utilities.getFullnameListOfallFiles(NEW_files)\n",
    "print(\"len(fullnames):\", len(fullnames))\n",
    "print(\"fullnames:\", fullnames)"
   ]
  },
  {
   "cell_type": "code",
   "execution_count": 59,
   "metadata": {},
   "outputs": [],
   "source": [
    "ext_names_mov = [\".mp4\", \".mov\", \".3gp\"]\n",
    "ext_names_img = [\".dng\", \".jpg\", \".png\", \".heic\", \".cr2\"]"
   ]
  },
  {
   "cell_type": "code",
   "execution_count": 60,
   "metadata": {},
   "outputs": [
    {
     "name": "stdout",
     "output_type": "stream",
     "text": [
      "len(fullnames): 307\n",
      "fullnames: ['/mnt/photo/NEW_files/100EOS5D/IMGL4506.CR2', '/mnt/photo/NEW_files/100EOS5D/IMGL4506.JPG', '/mnt/photo/NEW_files/100EOS5D/IMGL4507.CR2', '/mnt/photo/NEW_files/100EOS5D/IMGL4507.JPG', '/mnt/photo/NEW_files/100EOS5D/IMGL4508.CR2', '/mnt/photo/NEW_files/100EOS5D/IMGL4508.JPG', '/mnt/photo/NEW_files/100EOS5D/IMGL4509.CR2', '/mnt/photo/NEW_files/100EOS5D/IMGL4509.JPG', '/mnt/photo/NEW_files/100EOS5D/IMGL4510.CR2', '/mnt/photo/NEW_files/100EOS5D/IMGL4510.JPG', '/mnt/photo/NEW_files/100EOS5D/IMGL4511.CR2', '/mnt/photo/NEW_files/100EOS5D/IMGL4511.JPG', '/mnt/photo/NEW_files/100EOS5D/IMGL4512.CR2', '/mnt/photo/NEW_files/100EOS5D/IMGL4512.JPG', '/mnt/photo/NEW_files/100EOS5D/IMGL4513.JPG', '/mnt/photo/NEW_files/100EOS5D/IMGL4514.JPG', '/mnt/photo/NEW_files/100EOS5D/IMGL4515.JPG', '/mnt/photo/NEW_files/100EOS5D/IMGL4516.JPG', '/mnt/photo/NEW_files/100EOS5D/IMGL4517.JPG', '/mnt/photo/NEW_files/100EOS5D/IMGL4518.JPG', '/mnt/photo/NEW_files/100EOS5D/IMGL4519.JPG', '/mnt/photo/NEW_files/100EOS5D/IMGL4520.JPG', '/mnt/photo/NEW_files/100EOS5D/IMGL4521.JPG', '/mnt/photo/NEW_files/100EOS5D/IMGL4522.JPG', '/mnt/photo/NEW_files/100EOS5D/IMGL4523.JPG', '/mnt/photo/NEW_files/100EOS5D/IMGL4524.JPG', '/mnt/photo/NEW_files/100EOS5D/IMGL4525.JPG', '/mnt/photo/NEW_files/100EOS5D/IMGL4526.JPG', '/mnt/photo/NEW_files/100EOS5D/IMGL4527.JPG', '/mnt/photo/NEW_files/100EOS5D/IMGL4528.JPG', '/mnt/photo/NEW_files/100EOS5D/IMGL4529.JPG', '/mnt/photo/NEW_files/100EOS5D/IMGL4530.JPG', '/mnt/photo/NEW_files/100EOS5D/IMGL4531.JPG', '/mnt/photo/NEW_files/100EOS5D/IMGL4532.JPG', '/mnt/photo/NEW_files/100EOS5D/IMGL4533.JPG', '/mnt/photo/NEW_files/100EOS5D/IMGL4534.JPG', '/mnt/photo/NEW_files/100EOS5D/IMGL4535.JPG', '/mnt/photo/NEW_files/100EOS5D/IMGL4536.JPG', '/mnt/photo/NEW_files/100EOS5D/IMGL4537.JPG', '/mnt/photo/NEW_files/100EOS5D/IMGL4538.JPG', '/mnt/photo/NEW_files/100EOS5D/IMGL4539.JPG', '/mnt/photo/NEW_files/100EOS5D/IMGL4540.JPG', '/mnt/photo/NEW_files/100EOS5D/IMGL4541.JPG', '/mnt/photo/NEW_files/100EOS5D/IMGL4542.JPG', '/mnt/photo/NEW_files/100EOS5D/IMGL4543.JPG', '/mnt/photo/NEW_files/100EOS5D/IMGL4544.JPG', '/mnt/photo/NEW_files/100EOS5D/IMGL4545.JPG', '/mnt/photo/NEW_files/100EOS5D/IMGL4546.JPG', '/mnt/photo/NEW_files/100EOS5D/IMGL4547.JPG', '/mnt/photo/NEW_files/100EOS5D/IMGL4548.JPG', '/mnt/photo/NEW_files/100EOS5D/IMGL4549.JPG', '/mnt/photo/NEW_files/100EOS5D/IMGL4550.JPG', '/mnt/photo/NEW_files/100EOS5D/IMGL4551.JPG', '/mnt/photo/NEW_files/100EOS5D/IMGL4552.JPG', '/mnt/photo/NEW_files/100EOS5D/IMGL4553.JPG', '/mnt/photo/NEW_files/100EOS5D/IMGL4554.JPG', '/mnt/photo/NEW_files/100EOS5D/IMGL4555.JPG', '/mnt/photo/NEW_files/100EOS5D/IMGL4556.JPG', '/mnt/photo/NEW_files/100EOS5D/IMGL4557.JPG', '/mnt/photo/NEW_files/100EOS5D/IMGL4558.JPG', '/mnt/photo/NEW_files/100EOS5D/IMGL4559.JPG', '/mnt/photo/NEW_files/100EOS5D/IMGL4560.JPG', '/mnt/photo/NEW_files/100EOS5D/IMGL4562.JPG', '/mnt/photo/NEW_files/100EOS5D/IMGL4563.JPG', '/mnt/photo/NEW_files/100EOS5D/IMGL4564.JPG', '/mnt/photo/NEW_files/100EOS5D/IMGL4565.JPG', '/mnt/photo/NEW_files/100EOS5D/IMGL4566.JPG', '/mnt/photo/NEW_files/100EOS5D/IMGL4567.JPG', '/mnt/photo/NEW_files/100EOS5D/IMGL4568.JPG', '/mnt/photo/NEW_files/100EOS5D/IMGL4569.JPG', '/mnt/photo/NEW_files/100EOS5D/IMGL4570.JPG', '/mnt/photo/NEW_files/100EOS5D/IMGL4571.JPG', '/mnt/photo/NEW_files/100EOS5D/IMGL4572.JPG', '/mnt/photo/NEW_files/100EOS5D/IMGL4573.JPG', '/mnt/photo/NEW_files/100EOS5D/IMGL4574.JPG', '/mnt/photo/NEW_files/100EOS5D/IMGL4575.JPG', '/mnt/photo/NEW_files/100EOS5D/IMGL4576.JPG', '/mnt/photo/NEW_files/100EOS5D/IMGL4577.JPG', '/mnt/photo/NEW_files/100EOS5D/IMGL4578.JPG', '/mnt/photo/NEW_files/100EOS5D/IMGL4579.JPG', '/mnt/photo/NEW_files/100EOS5D/IMGL4580.JPG', '/mnt/photo/NEW_files/100EOS5D/IMGL4581.JPG', '/mnt/photo/NEW_files/100EOS5D/IMGL4582.JPG', '/mnt/photo/NEW_files/100EOS5D/IMGL4583.JPG', '/mnt/photo/NEW_files/100EOS5D/IMGL4584.JPG', '/mnt/photo/NEW_files/100EOS5D/IMGL4585.JPG', '/mnt/photo/NEW_files/100EOS5D/IMGL4586.JPG', '/mnt/photo/NEW_files/100EOS5D/IMGL4587.JPG', '/mnt/photo/NEW_files/100EOS5D/IMGL4588.JPG', '/mnt/photo/NEW_files/100EOS5D/IMGL4589.JPG', '/mnt/photo/NEW_files/100EOS5D/IMGL4590.JPG', '/mnt/photo/NEW_files/100EOS5D/IMGL4591.JPG', '/mnt/photo/NEW_files/100EOS5D/IMGL4592.JPG', '/mnt/photo/NEW_files/100EOS5D/IMGL4593.JPG', '/mnt/photo/NEW_files/100EOS5D/IMGL4594.JPG', '/mnt/photo/NEW_files/100EOS5D/IMGL4595.JPG', '/mnt/photo/NEW_files/100EOS5D/IMGL4596.JPG', '/mnt/photo/NEW_files/100EOS5D/IMGL4597.JPG', '/mnt/photo/NEW_files/100EOS5D/IMGL4598.JPG', '/mnt/photo/NEW_files/100EOS5D/IMGL4599.JPG', '/mnt/photo/NEW_files/100EOS5D/IMGL4600.JPG', '/mnt/photo/NEW_files/100EOS5D/IMGL4601.JPG', '/mnt/photo/NEW_files/100EOS5D/IMGL4602.JPG', '/mnt/photo/NEW_files/100EOS5D/IMGL4603.JPG', '/mnt/photo/NEW_files/100EOS5D/IMGL4604.JPG', '/mnt/photo/NEW_files/100EOS5D/IMGL4605.JPG', '/mnt/photo/NEW_files/100EOS5D/IMGL4606.JPG', '/mnt/photo/NEW_files/100EOS5D/IMGL4607.JPG', '/mnt/photo/NEW_files/100EOS5D/IMGL4608.JPG', '/mnt/photo/NEW_files/100EOS5D/IMGL4609.JPG', '/mnt/photo/NEW_files/100EOS5D/IMGL4610.JPG', '/mnt/photo/NEW_files/100EOS5D/IMGL4611.JPG', '/mnt/photo/NEW_files/100EOS5D/IMGL4612.JPG', '/mnt/photo/NEW_files/100EOS5D/IMGL4613.JPG', '/mnt/photo/NEW_files/100EOS5D/IMGL4614.JPG', '/mnt/photo/NEW_files/100EOS5D/IMGL4615.JPG', '/mnt/photo/NEW_files/100EOS5D/IMGL4616.JPG', '/mnt/photo/NEW_files/100EOS5D/IMGL4617.JPG', '/mnt/photo/NEW_files/100EOS5D/IMGL4618.JPG', '/mnt/photo/NEW_files/100EOS5D/IMGL4619.JPG', '/mnt/photo/NEW_files/100EOS5D/IMGL4620.JPG', '/mnt/photo/NEW_files/100EOS5D/IMGL4621.JPG', '/mnt/photo/NEW_files/100EOS5D/IMGL4622.JPG', '/mnt/photo/NEW_files/100EOS5D/IMGL4623.JPG', '/mnt/photo/NEW_files/100EOS5D/IMGL4624.JPG', '/mnt/photo/NEW_files/100EOS5D/IMGL4625.JPG', '/mnt/photo/NEW_files/100EOS5D/IMGL4626.JPG', '/mnt/photo/NEW_files/100EOS5D/IMGL4627.JPG', '/mnt/photo/NEW_files/100EOS5D/IMGL4628.JPG', '/mnt/photo/NEW_files/100EOS5D/IMGL4629.JPG', '/mnt/photo/NEW_files/100EOS5D/IMGL4630.JPG', '/mnt/photo/NEW_files/100EOS5D/IMGL4631.JPG', '/mnt/photo/NEW_files/100EOS5D/IMGL4632.JPG', '/mnt/photo/NEW_files/100EOS5D/IMGL4633.JPG', '/mnt/photo/NEW_files/100EOS5D/IMGL4634.JPG', '/mnt/photo/NEW_files/100EOS5D/IMGL4635.JPG', '/mnt/photo/NEW_files/100EOS5D/IMGL4636.JPG', '/mnt/photo/NEW_files/100EOS5D/IMGL4637.JPG', '/mnt/photo/NEW_files/100EOS5D/IMGL4638.JPG', '/mnt/photo/NEW_files/100EOS5D/IMGL4639.JPG', '/mnt/photo/NEW_files/100EOS5D/IMGL4640.JPG', '/mnt/photo/NEW_files/100EOS5D/IMGL4641.JPG', '/mnt/photo/NEW_files/100EOS5D/IMGL4642.JPG', '/mnt/photo/NEW_files/100EOS5D/IMGL4643.JPG', '/mnt/photo/NEW_files/100EOS5D/IMGL4644.JPG', '/mnt/photo/NEW_files/100EOS5D/IMGL4645.JPG', '/mnt/photo/NEW_files/100EOS5D/IMGL4646.JPG', '/mnt/photo/NEW_files/100EOS5D/IMGL4647.JPG', '/mnt/photo/NEW_files/100EOS5D/IMGL4648.JPG', '/mnt/photo/NEW_files/100EOS5D/IMGL4649.JPG', '/mnt/photo/NEW_files/100EOS5D/IMGL4650.JPG', '/mnt/photo/NEW_files/100EOS5D/IMGL4651.JPG', '/mnt/photo/NEW_files/100EOS5D/IMGL4652.JPG', '/mnt/photo/NEW_files/100EOS5D/IMGL4653.JPG', '/mnt/photo/NEW_files/100EOS5D/IMGL4654.JPG', '/mnt/photo/NEW_files/100EOS5D/IMGL4655.JPG', '/mnt/photo/NEW_files/100EOS5D/IMGL4656.JPG', '/mnt/photo/NEW_files/100EOS5D/IMGL4657.JPG', '/mnt/photo/NEW_files/100EOS5D/IMGL4658.JPG', '/mnt/photo/NEW_files/100EOS5D/IMGL4659.JPG', '/mnt/photo/NEW_files/100EOS5D/IMGL4660.JPG', '/mnt/photo/NEW_files/100EOS5D/IMGL4661.JPG', '/mnt/photo/NEW_files/100EOS5D/IMGL4662.JPG', '/mnt/photo/NEW_files/100EOS5D/IMGL4663.JPG', '/mnt/photo/NEW_files/100EOS5D/IMGL4664.JPG', '/mnt/photo/NEW_files/100EOS5D/IMGL4665.JPG', '/mnt/photo/NEW_files/100EOS5D/IMGL4666.JPG', '/mnt/photo/NEW_files/100EOS5D/IMGL4667.JPG', '/mnt/photo/NEW_files/100EOS5D/IMGL4668.JPG', '/mnt/photo/NEW_files/100EOS5D/IMGL4669.JPG', '/mnt/photo/NEW_files/100EOS5D/IMGL4670.JPG', '/mnt/photo/NEW_files/100EOS5D/IMGL4671.JPG', '/mnt/photo/NEW_files/100EOS5D/IMGL4672.JPG', '/mnt/photo/NEW_files/100EOS5D/IMGL4673.JPG', '/mnt/photo/NEW_files/100EOS5D/IMGL4674.JPG', '/mnt/photo/NEW_files/100EOS5D/IMGL4675.JPG', '/mnt/photo/NEW_files/100EOS5D/IMGL4676.JPG', '/mnt/photo/NEW_files/100EOS5D/IMGL4677.JPG', '/mnt/photo/NEW_files/100EOS5D/IMGL4678.JPG', '/mnt/photo/NEW_files/100EOS5D/IMGL4679.JPG', '/mnt/photo/NEW_files/100EOS5D/IMGL4680.JPG', '/mnt/photo/NEW_files/100EOS5D/IMGL4681.JPG', '/mnt/photo/NEW_files/100EOS5D/IMGL4682.JPG', '/mnt/photo/NEW_files/100EOS5D/IMGL4683.JPG', '/mnt/photo/NEW_files/100EOS5D/IMGL4684.JPG', '/mnt/photo/NEW_files/100EOS5D/IMGL4685.JPG', '/mnt/photo/NEW_files/100EOS5D/IMGL4686.JPG', '/mnt/photo/NEW_files/100EOS5D/IMGL4687.JPG', '/mnt/photo/NEW_files/100EOS5D/IMGL4688.JPG', '/mnt/photo/NEW_files/100EOS5D/IMGL4689.JPG', '/mnt/photo/NEW_files/100EOS5D/IMGL4690.JPG', '/mnt/photo/NEW_files/100EOS5D/IMGL4691.JPG', '/mnt/photo/NEW_files/100EOS5D/IMG_9834.xmp', '/mnt/photo/NEW_files/100EOS5D/Junha_BP.png', '/mnt/photo/NEW_files/100EOS5D/Junha_BP_s.png', '/mnt/photo/NEW_files/428CANON/MVI_9988.AVI', '/mnt/photo/NEW_files/428CANON/MVI_9988.THM', '/mnt/photo/NEW_files/428CANON/MVI_9989.AVI', '/mnt/photo/NEW_files/428CANON/MVI_9989.THM', '/mnt/photo/NEW_files/428CANON/MVI_9990.AVI', '/mnt/photo/NEW_files/428CANON/MVI_9990.THM', '/mnt/photo/NEW_files/428CANON/MVI_9991.AVI', '/mnt/photo/NEW_files/428CANON/MVI_9991.THM', '/mnt/photo/NEW_files/428CANON/MVI_9999.AVI', '/mnt/photo/NEW_files/428CANON/MVI_9999.THM', '/mnt/photo/NEW_files/429CANON/MVI_0001.AVI', '/mnt/photo/NEW_files/429CANON/MVI_0001.THM', '/mnt/photo/NEW_files/429CANON/MVI_0002.AVI', '/mnt/photo/NEW_files/429CANON/MVI_0002.THM', '/mnt/photo/NEW_files/429CANON/MVI_0003.AVI', '/mnt/photo/NEW_files/429CANON/MVI_0003.THM', '/mnt/photo/NEW_files/DJI/.DJI_1536.MP4.avc1', '/mnt/photo/NEW_files/DJI/.DJI_1536.MP4.trinf', '/mnt/photo/NEW_files/DJI/101MEDIA/DJI_1484.MP4', '/mnt/photo/NEW_files/DJI/101MEDIA/DJI_1485.MP4', '/mnt/photo/NEW_files/DJI/101MEDIA/DJI_1486.MP4', '/mnt/photo/NEW_files/DJI/101MEDIA/DJI_1487.MP4', '/mnt/photo/NEW_files/DJI/101MEDIA/DJI_1488.MP4', '/mnt/photo/NEW_files/DJI/101MEDIA/DJI_1489.MP4', '/mnt/photo/NEW_files/DJI/101MEDIA/DJI_1490.JPG', '/mnt/photo/NEW_files/DJI/101MEDIA/DJI_1491.MP4', '/mnt/photo/NEW_files/DJI/101MEDIA/DJI_1492.MP4', '/mnt/photo/NEW_files/DJI/101MEDIA/DJI_1493.MP4', '/mnt/photo/NEW_files/DJI/101MEDIA/DJI_1494.JPG', '/mnt/photo/NEW_files/DJI/101MEDIA/DJI_1495.MP4', '/mnt/photo/NEW_files/DJI/101MEDIA/DJI_1496.JPG', '/mnt/photo/NEW_files/DJI/101MEDIA/DJI_1497.JPG', '/mnt/photo/NEW_files/DJI/101MEDIA/DJI_1498.MP4', '/mnt/photo/NEW_files/DJI/101MEDIA/DJI_1499.JPG', '/mnt/photo/NEW_files/DJI/101MEDIA/DJI_1500.JPG', '/mnt/photo/NEW_files/DJI/101MEDIA/DJI_1501.JPG', '/mnt/photo/NEW_files/DJI/101MEDIA/DJI_1502.JPG', '/mnt/photo/NEW_files/DJI/101MEDIA/DJI_1503.MP4', '/mnt/photo/NEW_files/DJI/101MEDIA/DJI_1504.MP4', '/mnt/photo/NEW_files/DJI/101MEDIA/DJI_1505.JPG', '/mnt/photo/NEW_files/DJI/101MEDIA/DJI_1506.MP4', '/mnt/photo/NEW_files/DJI/101MEDIA/DJI_1507.MP4', '/mnt/photo/NEW_files/DJI/101MEDIA/DJI_1508.MP4', '/mnt/photo/NEW_files/DJI/101MEDIA/DJI_1509.MP4', '/mnt/photo/NEW_files/DJI/DJI_1528.JPG', '/mnt/photo/NEW_files/DJI/DJI_1529.JPG', '/mnt/photo/NEW_files/DJI/DJI_1530.MP4', '/mnt/photo/NEW_files/DJI/DJI_1531.JPG', '/mnt/photo/NEW_files/DJI/DJI_1532.MP4', '/mnt/photo/NEW_files/DJI/DJI_1533.MP4', '/mnt/photo/NEW_files/DJI/DJI_1534.MP4', '/mnt/photo/NEW_files/DJI/DJI_1535.MP4', '/mnt/photo/NEW_files/Downloads-20230218T150727Z-001.zip', '/mnt/photo/NEW_files/Downloads-20230218T150727Z-002.zip', '/mnt/photo/NEW_files/Downloads-20230218T150727Z-003.zip', '/mnt/photo/NEW_files/Moblie/2020/2020-09-17/IMG_0801.HEIC', '/mnt/photo/NEW_files/Moblie/2020/2020-09-17/IMG_0802.HEIC', '/mnt/photo/NEW_files/Moblie/2020/2020-09-17/IMG_0803.HEIC', '/mnt/photo/NEW_files/Moblie/2020/2020-09-18/IMG_0811.HEIC', '/mnt/photo/NEW_files/Moblie/2020/2020-09-18/IMG_0812.HEIC', '/mnt/photo/NEW_files/Moblie/2020/2020-09-18/IMG_0813.HEIC', '/mnt/photo/NEW_files/Moblie/2020/2020-12-04/IMG_1239.HEIC', '/mnt/photo/NEW_files/Moblie/anyphone/2017/Voice Recorder/음성 녹음_001.m4a', '/mnt/photo/NEW_files/Moblie/anyphone/2017/Voice Recorder/음성 녹음_002.m4a', '/mnt/photo/NEW_files/Moblie/anyphone/2017/Voice Recorder/음성 녹음_003.m4a', '/mnt/photo/NEW_files/Moblie/anyphone/2017/Voice Recorder/음성 녹음_004.m4a', '/mnt/photo/NEW_files/Moblie/anyphone/2017/Voice Recorder/음성 녹음_005.m4a', '/mnt/photo/NEW_files/Moblie/anyphone/2017/Voice Recorder/음성 녹음_006.m4a', '/mnt/photo/NEW_files/Video/DJI_1484.MP4', '/mnt/photo/NEW_files/Video/DJI_1485.MP4', '/mnt/photo/NEW_files/Video/DJI_1486.MP4', '/mnt/photo/NEW_files/Video/DJI_1487.MP4', '/mnt/photo/NEW_files/Video/DJI_1488.MP4', '/mnt/photo/NEW_files/Video/DJI_1489.MP4', '/mnt/photo/NEW_files/Video/DJI_1490.JPG', '/mnt/photo/NEW_files/Video/DJI_1491.MP4', '/mnt/photo/NEW_files/Video/DJI_1492.MP4', '/mnt/photo/NEW_files/Video/DJI_1493.MP4', '/mnt/photo/NEW_files/Video/DJI_1494.JPG', '/mnt/photo/NEW_files/Video/DJI_1495.MP4', '/mnt/photo/NEW_files/Video/DJI_1496.JPG', '/mnt/photo/NEW_files/Video/DJI_1497.JPG', '/mnt/photo/NEW_files/Video/DJI_1498.MP4', '/mnt/photo/NEW_files/Video/DJI_1499.JPG', '/mnt/photo/NEW_files/Video/DJI_1500.JPG', '/mnt/photo/NEW_files/Video/DJI_1501.JPG', '/mnt/photo/NEW_files/Video/DJI_1502.JPG', '/mnt/photo/NEW_files/Video/DJI_1503.MP4', '/mnt/photo/NEW_files/Video/DJI_1504.MP4', '/mnt/photo/NEW_files/Video/DJI_1505.JPG', '/mnt/photo/NEW_files/Video/DJI_1506.MP4', '/mnt/photo/NEW_files/Video/DJI_1507.MP4', '/mnt/photo/NEW_files/Video/DJI_1508.MP4', '/mnt/photo/NEW_files/Video/DJI_1509.MP4', '/mnt/photo/NEW_files/Video/DJI_1510.MP4', '/mnt/photo/NEW_files/Video/DJI_1511.MP4', '/mnt/photo/NEW_files/Video/DJI_1512.MP4', '/mnt/photo/NEW_files/Video/DJI_1513.MP4', '/mnt/photo/NEW_files/Video/DJI_1514.MP4', '/mnt/photo/NEW_files/Video/DJI_1515.MP4', '/mnt/photo/NEW_files/Video/DJI_1516.MP4', '/mnt/photo/NEW_files/Video/DJI_1517.MP4', '/mnt/photo/NEW_files/Video/DJI_1518.MP4', '/mnt/photo/NEW_files/Video/DJI_1519.MP4', '/mnt/photo/NEW_files/Video/DJI_1520.MP4', '/mnt/photo/NEW_files/Video/DJI_1521.MP4', '/mnt/photo/NEW_files/Video/DJI_1522.MP4', '/mnt/photo/NEW_files/Video/DJI_1523.MP4', '/mnt/photo/NEW_files/Video/DJI_1524.MP4', '/mnt/photo/NEW_files/Video/DJI_1525.MP4', '/mnt/photo/NEW_files/Video/DJI_1526.MP4', '/mnt/photo/NEW_files/Video/DJI_1527.MP4']\n"
     ]
    }
   ],
   "source": [
    "fullnames = _photo_utilities.getFullnameListOfallFiles(NEW_files)\n",
    "print(\"len(fullnames):\", len(fullnames))\n",
    "print(\"fullnames:\", fullnames)"
   ]
  },
  {
   "cell_type": "code",
   "execution_count": 63,
   "metadata": {},
   "outputs": [
    {
     "name": "stdout",
     "output_type": "stream",
     "text": [
      "IMGL4506.CR2\n",
      "True\n",
      "image_datetime : 20220218-121437\n",
      "IMGL4506.JPG\n",
      "True\n",
      "image_datetime : 20220218-121437\n",
      "IMGL4507.CR2\n",
      "True\n",
      "image_datetime : 20220218-145012\n",
      "IMGL4507.JPG\n",
      "True\n",
      "image_datetime : 20220218-145012\n",
      "IMGL4508.CR2\n",
      "True\n",
      "image_datetime : 20220218-145018\n"
     ]
    }
   ],
   "source": [
    "for fullname in fullnames[:5]:\n",
    "    fpath = Path(fullname)\n",
    "    print(fpath.name)\n",
    "    #print(fpath.suffix.lower())\n",
    "\n",
    "    if fpath.suffix.lower() in ext_names_mov :\n",
    "        mov_datetime = _photo_utilities.get_mov_creation_date(str(fpath))\n",
    "        print(\"mov_datetime :\", mov_datetime)\n",
    "\n",
    "    #print(fpath.suffix.lower() in ext_names_img)\n",
    "    if fpath.suffix.lower() in ext_names_img :\n",
    "        image_datetime = _photo_utilities.get_image_datetime_str(str(fpath))\n",
    "        image_ModelID = _photo_utilities.get_image_Model_name(str(fpath)).replace(' ','')\n",
    "        image_Software = _photo_utilities.get_image_Software(str(fpath))\n",
    "        print(\"image_datetime :\", image_datetime)\n",
    "        \n"
   ]
  },
  {
   "cell_type": "code",
   "execution_count": null,
   "metadata": {},
   "outputs": [],
   "source": [
    "for fullname in fullnames[:5]:\n",
    "    fpath = Path(fullname)\n",
    "    if fpath.suffix.lower() in ext_names_mov :\n",
    "        mov_datetime = _photo_utilities.get_mov_creation_date(str(fpath))\n",
    "        print(\"mov_datetime :\", mov_datetime)\n",
    "\n",
    "    if fpath.suffix.lower() in ext_names_img :\n",
    "        image_datetime = _photo_utilities.get_image_datetime_str(fullname)\n",
    "        image_ModelID = _photo_utilities.get_image_Model_name(fullname).replace(' ','')\n",
    "        image_Software = _photo_utilities.get_image_Software(fullname)\n",
    "        print(\"image_datetime :\", image_datetime)\n",
    "        print(\"image_datetime :\", image_datetime)\n",
    "        print(\"image_datetime :\", image_datetime)\n",
    "        \n"
   ]
  }
 ],
 "metadata": {
  "kernelspec": {
   "display_name": "photo_Python_env",
   "language": "python",
   "name": "python3"
  },
  "language_info": {
   "codemirror_mode": {
    "name": "ipython",
    "version": 3
   },
   "file_extension": ".py",
   "mimetype": "text/x-python",
   "name": "python",
   "nbconvert_exporter": "python",
   "pygments_lexer": "ipython3",
   "version": "3.7.16"
  },
  "orig_nbformat": 4
 },
 "nbformat": 4,
 "nbformat_minor": 2
}
